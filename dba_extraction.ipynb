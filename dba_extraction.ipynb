{
 "cells": [
  {
   "cell_type": "markdown",
   "id": "93c98173-8a1f-4745-8321-4270ea01045b",
   "metadata": {},
   "source": [
    "# Factset\n",
    "\n",
    "Notebook that extracts data from FastFech On-Demand Web Service."
   ]
  },
  {
   "cell_type": "code",
   "execution_count": null,
   "id": "ff6a11fe-78eb-48ce-ab33-b9d176479484",
   "metadata": {},
   "outputs": [],
   "source": [
    "from datetime import datetime\n",
    "import requests\n",
    "import io\n",
    "import json\n",
    "import pandas as pd\n",
    "from pathlib import Path"
   ]
  },
  {
   "cell_type": "markdown",
   "id": "dcf4e83f-18a8-48b0-8ac4-f4af733143a5",
   "metadata": {},
   "source": [
    "---\n",
    "## 0. Configuration"
   ]
  },
  {
   "cell_type": "markdown",
   "id": "a0d1744a-a4e2-48c3-bd57-ccfff7c2f0d0",
   "metadata": {},
   "source": [
    "Helper function to load JSON configuration files."
   ]
  },
  {
   "cell_type": "code",
   "execution_count": null,
   "id": "ecef444c-58b6-4817-980f-b4183b8995dc",
   "metadata": {},
   "outputs": [],
   "source": [
    "def read_json(path):\n",
    "    with open(path, 'r') as file:\n",
    "        return json.load(file)"
   ]
  },
  {
   "cell_type": "markdown",
   "id": "d521c623-25ce-4bbd-972e-05f8e4a7b9b3",
   "metadata": {},
   "source": [
    "Retrieve configuration from files."
   ]
  },
  {
   "cell_type": "code",
   "execution_count": null,
   "id": "e9492358-0bdc-4fcd-bb37-b6b7c37b401f",
   "metadata": {},
   "outputs": [],
   "source": [
    "CREDENTIALS = read_json('/Users/alex/.factset_credentials')\n",
    "\n",
    "BALANCE_SHEET_CALL = read_json('calls/balance_sheet.json')\n",
    "CASHFLOW_STATEMENT_CALL = read_json('calls/cashflow_statement.json')\n",
    "ESG_CALL = read_json('calls/esg.json')\n",
    "INCOME_STATEMENT_CALL = read_json('calls/income_statement.json')\n",
    "LIST_CALL = read_json('calls/list.json')\n",
    "PRICES_CALL = read_json('calls/prices.json')\n",
    "RATIOS_CALL = read_json('calls/ratios.json')\n",
    "\n",
    "OUTPUT_PATH = Path('./output/')"
   ]
  },
  {
   "cell_type": "markdown",
   "id": "ba113bcc-cc2c-455a-854e-2a11cc3533ce",
   "metadata": {},
   "source": [
    "---\n",
    "## 1. Call webservice"
   ]
  },
  {
   "cell_type": "markdown",
   "id": "bf5a26a5-581a-4e6d-972b-c4757dcdec3f",
   "metadata": {},
   "source": [
    "`_call_fastfetch()` defines the a skeleton call to a webservice.  \n",
    "**Supported arguments:** currency, cutoff, date, dates, format, ids, ison,\n",
    "isonParams, items, orientation, showDataType, showTitle, showHeader, universe, universeGroup.\n",
    "\n",
    "Add username and password."
   ]
  },
  {
   "cell_type": "code",
   "execution_count": null,
   "id": "a6501fea-1b8c-42bf-8c0c-98f3bf68ffbd",
   "metadata": {},
   "outputs": [],
   "source": [
    "def _call_fastfetch(**kwargs):\n",
    "\n",
    "    \"\"\" base call for on-demand webservice \"\"\"\n",
    "\n",
    "    endpoint = kwargs.pop('endpoint')\n",
    "    username = kwargs.pop('username')\n",
    "    password = kwargs.pop('password')\n",
    "    \n",
    "    kwargs['format'] = 'csv'\n",
    "    kwargs['showTitle'] = kwargs['showHeader'] = kwargs['showDatatype'] = 'N'\n",
    "\n",
    "    items = kwargs.pop('items')\n",
    "    # Generate comma-separated strings of keys and values, maintaining the same order\n",
    "    column_list = list(items.keys())\n",
    "    item_list = [items[key] for key in column_list]\n",
    "\n",
    "    kwargs['items']=','.join(item_list)\n",
    "    \n",
    "    # Query the data from factset\n",
    "    response = requests.post(endpoint,\n",
    "                             auth = (username, password),\n",
    "                             data = kwargs)\n",
    "\n",
    "    #print(response.text)\n",
    "    \n",
    "    # If the status code is not success (200) raise exception\n",
    "    if not response.status_code == 200:\n",
    "        raise Exception(f'Error in request. Response with status code: {response.status_code}')\n",
    "    \n",
    "    # transform the response variable to DataFrame\n",
    "    data = pd.read_csv(io.StringIO(response.text))\n",
    "    data.columns = ['id', 'date'] + column_list\n",
    "\n",
    "    return data"
   ]
  },
  {
   "cell_type": "markdown",
   "id": "0feec2c9-82c6-45e0-941a-5ba16dfe5b26",
   "metadata": {},
   "source": [
    "---\n",
    "## 2. Screening\n",
    "\n",
    "`factset_extract_snapshot()` selects certain attributes `items` for desired assets.  \n",
    "These assets are filtered based on conditions provided in `universe` in Factset Screening Language."
   ]
  },
  {
   "cell_type": "code",
   "execution_count": null,
   "id": "8dcbccd9-b15f-41e6-bc9d-06abf408a9f1",
   "metadata": {},
   "outputs": [],
   "source": [
    "def factset_extract_snapshot(universe, **kwargs):\n",
    "    return _call_fastfetch(\n",
    "            factlet='ExtractDataSnapshot',\n",
    "            date='0',\n",
    "            universe=universe,\n",
    "            items=LIST_CALL,\n",
    "            **kwargs)"
   ]
  },
  {
   "cell_type": "markdown",
   "id": "e456c5d8-449e-4fa8-b197-e0c196a58fa2",
   "metadata": {},
   "source": [
    "---\n",
    "## 3. Historical data\n",
    "\n",
    "`factset_extract_formula_history()` returns a panel of symbol/date features."
   ]
  },
  {
   "cell_type": "code",
   "execution_count": null,
   "id": "ad6ade8c-9ff2-44d6-98b6-68bdb5db1630",
   "metadata": {},
   "outputs": [],
   "source": [
    "def factset_extract_formula_history(**kwargs):\n",
    "\n",
    "    \"\"\" historical data data \"\"\"\n",
    "\n",
    "    ids = kwargs.pop('ids', None)\n",
    "\n",
    "    if ids:\n",
    "        # replace with a string\n",
    "        ids = ','.join(ids)\n",
    "        kwargs['ids']= ids\n",
    "    \n",
    "    items = kwargs.pop('items')\n",
    "    \n",
    "    # Generate comma-separated strings of keys and values, maintaining the same order\n",
    "    column_list = list(items.keys())\n",
    "    item_list = [ items[item].format(**kwargs) for item in column_list ]\n",
    "\n",
    "    kwargs['items'] = { k:v for (k,v) in zip(column_list, item_list)}  \n",
    "    kwargs['dates'] = '{t1}:{t2}:{frequency}'.format(**kwargs)\n",
    "    \n",
    "    data = _call_fastfetch(factlet='ExtractFormulaHistory', **kwargs)\n",
    "\n",
    "    # parse date\n",
    "    data['date'] = pd.to_datetime(data['date'])\n",
    "\n",
    "    return data"
   ]
  },
  {
   "cell_type": "markdown",
   "id": "4544e977-d245-416f-bfce-16c30e852053",
   "metadata": {},
   "source": [
    "---\n",
    "## 4. Utility functions"
   ]
  },
  {
   "cell_type": "code",
   "execution_count": null,
   "id": "8c1a2a93-46c6-4800-81a4-1a8be83bae48",
   "metadata": {},
   "outputs": [],
   "source": [
    "def screening(universes):\n",
    "\n",
    "    results = []\n",
    "\n",
    "    for universe in UNIVERSES:\n",
    "    \n",
    "        print(f'factset_retrieve_listing\\n\\t{universe=}')\n",
    "        \n",
    "        df = factset_extract_snapshot(universe=universe, **CREDENTIALS)\n",
    "        df['universe'] = universe\n",
    "        results.append(df)\n",
    "        \n",
    "        retrieved = len(df)\n",
    "        print(f'\\tdone, {retrieved} rows')\n",
    "        \n",
    "    df_listing = pd.concat(results)\n",
    "    \n",
    "    len_before = len(df_listing)\n",
    "    df_listing = df_listing.drop_duplicates(subset=['id'])\n",
    "    df_listing = df_listing.set_index('id')\n",
    "    len_after = len(df_listing)\n",
    "    \n",
    "    print(f'removed duplicates: {len_before=} {len_after=}')\n",
    "\n",
    "    return df_listing"
   ]
  },
  {
   "cell_type": "markdown",
   "id": "a15319f8-7eff-491e-befd-cb084a37e237",
   "metadata": {},
   "source": [
    "---\n",
    "## 5. EXTRACTION\n",
    "\n",
    "First, filter the assets to download."
   ]
  },
  {
   "cell_type": "code",
   "execution_count": null,
   "id": "4efc0840-e53f-44ec-ad44-970fa8e2ce44",
   "metadata": {},
   "outputs": [],
   "source": [
    "# SP50\n",
    "# IBEX-MCE\n",
    "# 990100\n",
    "# Energy assets (25), share, NYSE\n",
    "# universe=\"(PUBLIC:FR_RBICS_NUM_CURR='25' AND PUBLIC:FREF_SECURITY_TYPE='SHARE' AND P_EXCHANGE='NYSE')=1\"\n",
    "#\"(PUBLIC:F_COUNTRY='SPAIN' AND PUBLIC:FS_SEC_TYPE='SHARE' AND PUBLIC:ISON_ES_INDEX(10,IGBM))=1\"\n",
    "#universe = f'FG_CONSTITUENTS({source},0,CLOSE)'\n",
    "\n",
    "SOURCES = ['SP50', 'IBEX-MCE']\n",
    "SOURCES = ['SP50']\n",
    "\n",
    "UNIVERSES = [\n",
    "    #\"(FR_RBICS_NUM_CURR='25' AND FREF_SECURITY_TYPE='SHARE' AND P_EXCHANGE='NYSE')=1\",\n",
    "    \"FG_CONSTITUENTS(SP50,0,CLOSE)\"\n",
    "]\n",
    "\n",
    "df_listing = screening(UNIVERSES)\n",
    "df_listing.to_csv(OUTPUT_PATH / 'listing.csv.gz')\n",
    "df_listing.to_excel(OUTPUT_PATH / 'listing.xlsx')"
   ]
  },
  {
   "cell_type": "code",
   "execution_count": null,
   "id": "af38370a-da6a-432f-927c-954bfbe949e8",
   "metadata": {},
   "outputs": [],
   "source": [
    "# Extract daily prices\n",
    "df_prices = factset_extract_formula_history(\n",
    "    ids=df_listing.index.tolist(),\n",
    "    t1='0', t2='20000101', frequency='D', currency='USD',\n",
    "    items=PRICES_CALL, **CREDENTIALS)\n",
    "\n",
    "df_prices.to_csv(OUTPUT_PATH / 'daily_prices.csv.gz')\n",
    "\n",
    "if len(df) < 1048576:\n",
    "    df_prices.to_excel(OUTPUT_PATH / 'daily_prices.xlsx')\n",
    "else:\n",
    "    print('Cannot save Excel file: Max sheet size is 1048576 rows x 16384 columns')\n",
    "\n",
    "df_prices.tail()"
   ]
  },
  {
   "cell_type": "code",
   "execution_count": null,
   "id": "0aaf6961-070a-4129-94be-175ee8df3c24",
   "metadata": {},
   "outputs": [],
   "source": [
    "# Extract monthly prices\n",
    "df_prices = factset_extract_formula_history(\n",
    "    ids=df_listing.index.tolist(),\n",
    "    t1='0', t2='20000101', frequency='M', currency='USD',\n",
    "    items=PRICES_CALL, **CREDENTIALS)\n",
    "\n",
    "df_prices.to_csv(OUTPUT_PATH / 'monthly_prices.csv.gz')\n",
    "df_prices.to_excel(OUTPUT_PATH / 'monthly_prices.xlsx')\n",
    "\n",
    "df_prices.tail()"
   ]
  },
  {
   "cell_type": "code",
   "execution_count": null,
   "id": "24ce250c-6364-41c1-b4a9-3512c3e037c2",
   "metadata": {},
   "outputs": [],
   "source": [
    "# Extract ESG\n",
    "df_esg = factset_extract_formula_history(\n",
    "    ids=df_listing.index.tolist(),\n",
    "    t1='0', t2='20230101', frequency='M', currency='USD', \n",
    "    items=ESG_CALL, **CREDENTIALS)\n",
    "\n",
    "df_esg.to_csv(OUTPUT_PATH / 'esg.csv.gz')\n",
    "df_esg.to_excel(OUTPUT_PATH / 'esg.xlsx')\n",
    "\n",
    "df_esg.tail()"
   ]
  },
  {
   "cell_type": "code",
   "execution_count": null,
   "id": "dc99c17c-45b8-4dc4-a857-de0b8c9f976b",
   "metadata": {},
   "outputs": [],
   "source": [
    "# Extract balance sheet\n",
    "df_bs = factset_extract_formula_history(\n",
    "    ids=df_listing.index.tolist(),\n",
    "    t1='0', t2='20000101', frequency='Q', basis='QTR_R', currency='USD', \n",
    "    items=BALANCE_SHEET_CALL, **CREDENTIALS)\n",
    "\n",
    "df_bs.to_csv(OUTPUT_PATH / 'balance_sheet.csv.gz')\n",
    "df_bs.to_excel(OUTPUT_PATH / 'balance_sheet.xlsx')\n",
    "\n",
    "df_bs.tail()"
   ]
  },
  {
   "cell_type": "code",
   "execution_count": null,
   "id": "d0f7496b-455c-49b5-ab9f-aac9deb61793",
   "metadata": {},
   "outputs": [],
   "source": [
    "# Extract income statement\n",
    "df_is = factset_extract_formula_history(\n",
    "    ids=df_listing.index.tolist(),\n",
    "    t1='0', t2='20000101', frequency='Q', basis='QTR_R', currency='USD', \n",
    "    items=INCOME_STATEMENT_CALL, **CREDENTIALS)\n",
    "\n",
    "df_is.to_csv(OUTPUT_PATH / 'income_statement.csv.gz')\n",
    "df_is.to_excel(OUTPUT_PATH / 'income_statement.xlsx')\n",
    "\n",
    "df_is.tail()"
   ]
  },
  {
   "cell_type": "code",
   "execution_count": null,
   "id": "29ef560e-be0a-45f3-a270-5184869ca3fd",
   "metadata": {},
   "outputs": [],
   "source": [
    "# Extract cashflow statement\n",
    "df_cs = factset_extract_formula_history(\n",
    "    ids=df_listing.index.tolist(),\n",
    "    t1='0', t2='20000101', frequency='Q', basis='QTR_R', currency='USD', \n",
    "    items=CASHFLOW_STATEMENT_CALL, **CREDENTIALS)\n",
    "\n",
    "df_cs.to_csv(OUTPUT_PATH / 'cashflow_statement.csv.gz')\n",
    "df_cs.to_excel(OUTPUT_PATH / 'cashflow_statement.xlsx')\n",
    "\n",
    "df_cs.tail()"
   ]
  },
  {
   "cell_type": "code",
   "execution_count": null,
   "id": "f11eee89-67e4-44c5-a16d-3e5ad34aee40",
   "metadata": {},
   "outputs": [],
   "source": [
    "# Extract ratios\n",
    "RATIOS_CALL = read_json('calls/ratios.json')\n",
    "df_r = factset_extract_formula_history(\n",
    "    ids=df_listing.index.tolist(),\n",
    "    t1='0', t2='20000101', frequency='Q', basis='QTR_R', currency='USD', \n",
    "    items=RATIOS_CALL, **CREDENTIALS)\n",
    "\n",
    "df_r.to_csv(OUTPUT_PATH / 'ratios.csv.gz')\n",
    "df_r.to_excel(OUTPUT_PATH / 'ratios.xlsx')\n",
    "\n",
    "df_r.tail()"
   ]
  }
 ],
 "metadata": {
  "kernelspec": {
   "display_name": "Python 3 (ipykernel)",
   "language": "python",
   "name": "python3"
  },
  "language_info": {
   "codemirror_mode": {
    "name": "ipython",
    "version": 3
   },
   "file_extension": ".py",
   "mimetype": "text/x-python",
   "name": "python",
   "nbconvert_exporter": "python",
   "pygments_lexer": "ipython3",
   "version": "3.12.3"
  }
 },
 "nbformat": 4,
 "nbformat_minor": 5
}
